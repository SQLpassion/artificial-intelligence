{
 "cells": [
  {
   "cell_type": "markdown",
   "metadata": {},
   "source": [
    "The following code is running on the CPU - without any optimizations:"
   ]
  },
  {
   "cell_type": "code",
   "execution_count": 1,
   "metadata": {},
   "outputs": [
    {
     "name": "stdout",
     "output_type": "stream",
     "text": [
      "32.0\n"
     ]
    }
   ],
   "source": [
    "def python_forloop_list_approach(x, w):\n",
    "    z = 0.\n",
    "    for i in range(len(x)):\n",
    "        z += x[i] * w[i]\n",
    "    return z\n",
    "\n",
    "\n",
    "a = [1., 2., 3.]\n",
    "b = [4., 5., 6.]\n",
    "\n",
    "print(python_forloop_list_approach(a, b))"
   ]
  },
  {
   "cell_type": "markdown",
   "metadata": {},
   "source": [
    "Let's benchmark the implementation with the %timeit function: 300 to 400 microseconds"
   ]
  },
  {
   "cell_type": "code",
   "execution_count": 2,
   "metadata": {},
   "outputs": [
    {
     "name": "stdout",
     "output_type": "stream",
     "text": [
      "390 μs ± 14.7 μs per loop (mean ± std. dev. of 7 runs, 1,000 loops each)\n"
     ]
    }
   ],
   "source": [
    "large_a = list(range(10000))\n",
    "large_b = list(range(10000))\n",
    "\n",
    "%timeit python_forloop_list_approach(large_a, large_b)"
   ]
  },
  {
   "cell_type": "markdown",
   "metadata": {},
   "source": [
    "Let's do everything with numpy: just a few microseconds"
   ]
  },
  {
   "cell_type": "code",
   "execution_count": 3,
   "metadata": {},
   "outputs": [
    {
     "name": "stdout",
     "output_type": "stream",
     "text": [
      "3.22 μs ± 98.7 ns per loop (mean ± std. dev. of 7 runs, 100,000 loops each)\n"
     ]
    }
   ],
   "source": [
    "import numpy as np\n",
    "\n",
    "def numpy_dotproduct_approach(x, w):\n",
    "    # same as np.dot(x, w)\n",
    "    # and same as x @ w\n",
    "    return x.dot(w)\n",
    "\n",
    "# Creates an array of numbers from 0 to 9999\n",
    "large_a = np.arange(10000)\n",
    "large_b = np.arange(10000)\n",
    "\n",
    "%timeit numpy_dotproduct_approach(large_a, large_b)"
   ]
  },
  {
   "cell_type": "markdown",
   "metadata": {},
   "source": [
    "# N-dimensional Arrays "
   ]
  },
  {
   "cell_type": "code",
   "execution_count": 4,
   "metadata": {},
   "outputs": [
    {
     "name": "stdout",
     "output_type": "stream",
     "text": [
      "Content:  [1. 2. 3.]\n",
      "Data type: float64\n",
      "Dimensions:  1\n",
      "Shape:  (3,)\n",
      "\n",
      "Content:  [[4 5 6]\n",
      " [7 8 9]]\n",
      "Data type:  int64\n",
      "Dimensions:  2\n",
      "Shape:  (2, 3)\n"
     ]
    }
   ],
   "source": [
    "# One dimensional array\n",
    "a = [1., 2., 3.]\n",
    "array_1d = np.array(a)\n",
    "print(\"Content: \", array_1d)\n",
    "print(\"Data type:\", array_1d.dtype)\n",
    "print(\"Dimensions: \", array_1d.ndim)\n",
    "print(\"Shape: \", array_1d.shape)\n",
    "print(\"\")\n",
    "\n",
    "# Two dimensional array\n",
    "entries =   [\n",
    "                [4, 5, 6], \n",
    "                [7, 8, 9]\n",
    "            ]\n",
    "array_2d = np.array(entries)\n",
    "print(\"Content: \", array_2d)\n",
    "print(\"Data type: \", array_2d.dtype)\n",
    "print(\"Dimensions: \", array_2d.ndim)\n",
    "print(\"Shape: \", array_2d.shape)"
   ]
  },
  {
   "cell_type": "markdown",
   "metadata": {},
   "source": [
    "# Array Indexing"
   ]
  },
  {
   "cell_type": "code",
   "execution_count": 68,
   "metadata": {},
   "outputs": [
    {
     "name": "stdout",
     "output_type": "stream",
     "text": [
      "10\n",
      "12\n",
      "[10 11 12]\n",
      "[17 18 19]\n",
      "2\n",
      "[2 3]\n",
      "5\n",
      "[4 5 6]\n"
     ]
    }
   ],
   "source": [
    "# The 1st and 3rd entry of the array\n",
    "array = np.arange(10, 20)\n",
    "print(array[0])\n",
    "print(array[2])\n",
    "\n",
    "# The first 3 entries of the array\n",
    "print(array[0:3])\n",
    "\n",
    "# The last 3 entries of the array\n",
    "print(array[-3:])\n",
    "\n",
    "# Two dimensional array\n",
    "array = np.array([[1, 2, 3], [4, 5, 6]])\n",
    "print(array[0, -2])\n",
    "print(array[0, -2:])\n",
    "print(array[1, -2])\n",
    "print(array[1, 0:3])"
   ]
  },
  {
   "cell_type": "markdown",
   "metadata": {},
   "source": [
    "# Universal Functions"
   ]
  },
  {
   "cell_type": "code",
   "execution_count": 83,
   "metadata": {},
   "outputs": [
    {
     "name": "stdout",
     "output_type": "stream",
     "text": [
      "[[2, 3, 4], [5, 6, 7]]\n",
      "[[3 4 5]\n",
      " [6 7 8]]\n",
      "[[10 11 12]\n",
      " [13 14 15]]\n",
      "[23 25 27]\n",
      "[23 25 27]\n",
      "[33 42]\n",
      "[33 42]\n"
     ]
    }
   ],
   "source": [
    "array = [[1, 2, 3], [4, 5, 6]] \n",
    "\n",
    "# An inefficient nested loop implementation\n",
    "for row_index, row_value in enumerate(array):\n",
    "    for col_index, col_value in enumerate(row_value):\n",
    "        array[row_index][col_index] += 1\n",
    "\n",
    "print(array)\n",
    "\n",
    "# An efficient numpy implementation with a Universal Function (ufunc)\n",
    "array = np.add(array, 1)\n",
    "print(array)\n",
    "\n",
    "# Or, with a simplified syntax\n",
    "array += 7\n",
    "print(array)\n",
    "\n",
    "# Calculate the sum of all entries across the row axis\n",
    "print(np.add.reduce(array, axis = 0))\n",
    "print(array.sum(axis = 0))\n",
    "\n",
    "# Calculate the sum of all entries across the column axis\n",
    "print(np.add.reduce(array, axis = 1))\n",
    "print(array.sum(axis = 1))\n"
   ]
  },
  {
   "cell_type": "markdown",
   "metadata": {},
   "source": [
    "# Broadcasting"
   ]
  },
  {
   "cell_type": "code",
   "execution_count": 141,
   "metadata": {},
   "outputs": [
    {
     "name": "stdout",
     "output_type": "stream",
     "text": [
      "[2 3 4]\n",
      "\n",
      "[4 5 6]\n",
      "\n",
      "[[ 8 10 12]\n",
      " [11 13 15]]\n",
      "\n"
     ]
    }
   ],
   "source": [
    "# Broadcasting a scalar value\n",
    "array1 = np.array([1, 2, 3])\n",
    "array1 += 1\n",
    "print(array1)\n",
    "print(\"\")\n",
    "\n",
    "# Broadcasting an array of the same shape\n",
    "array1 += np.array([2, 2, 2])\n",
    "print(array1)\n",
    "print(\"\")\n",
    "\n",
    "# Broadcasting an array of a different shape\n",
    "array2 = np.array([[4, 5, 6], [7, 8, 9]])\n",
    "array3 = array1 + array2\n",
    "print(array3)\n",
    "print(\"\")"
   ]
  },
  {
   "cell_type": "markdown",
   "metadata": {},
   "source": [
    "# Boolean Masks"
   ]
  },
  {
   "cell_type": "code",
   "execution_count": 91,
   "metadata": {},
   "outputs": [
    {
     "name": "stdout",
     "output_type": "stream",
     "text": [
      "[[False False False]\n",
      " [False  True  True]]\n",
      "[5 6]\n"
     ]
    }
   ],
   "source": [
    "array = np.array([[1, 2, 3], [4, 5, 6]])\n",
    "\n",
    "greater_than4_mask = array > 4\n",
    "print(greater_than4_mask)\n",
    "print(array[greater_than4_mask])"
   ]
  },
  {
   "cell_type": "markdown",
   "metadata": {},
   "source": [
    "# Reshaping Arrays"
   ]
  },
  {
   "cell_type": "code",
   "execution_count": 104,
   "metadata": {},
   "outputs": [
    {
     "name": "stdout",
     "output_type": "stream",
     "text": [
      "[[1 2 3]\n",
      " [4 5 6]]\n",
      "\n",
      "[[1 2]\n",
      " [3 4]\n",
      " [5 6]]\n",
      "\n",
      "[1 2 3 4 5 6]\n",
      "\n",
      "[1 2 3 1 2 3]\n",
      "\n",
      "[[1 2 3 1 2 3]]\n",
      "\n"
     ]
    }
   ],
   "source": [
    "array_1dim = np.array([1, 2, 3, 4, 5, 6])\n",
    "\n",
    "# Create a 2-dimensional array with 2 rows and 3 columns\n",
    "array_2dim = array_1dim.reshape(2, 3)\n",
    "print(array_2dim)\n",
    "print(\"\")\n",
    "\n",
    "# The number of rows are unspecified (-1), but the number of columns is 2\n",
    "array_2dim = array_1dim.reshape(-1, 2)\n",
    "print(array_2dim)\n",
    "print(\"\")\n",
    "\n",
    "# Flatten the array to a 1-dimensional array\n",
    "array_1dim = array_2dim.flatten()\n",
    "print(array_1dim)\n",
    "print(\"\")\n",
    "\n",
    "# Concatenate two arrays\n",
    "array1 = np.array([1, 2, 3])\n",
    "array2 = np.concatenate((array1, array1))\n",
    "print(array2)\n",
    "print(\"\")\n",
    "\n",
    "# Concatenate two arrays along the row axis\n",
    "array1 = np.array([[1, 2, 3]])\n",
    "array2 = np.concatenate((array1, array1), axis = 1)\n",
    "print(array2)\n",
    "print(\"\")"
   ]
  },
  {
   "cell_type": "markdown",
   "metadata": {},
   "source": [
    "# Linear Algebra"
   ]
  },
  {
   "cell_type": "code",
   "execution_count": 6,
   "metadata": {},
   "outputs": [
    {
     "name": "stdout",
     "output_type": "stream",
     "text": [
      "[[1 2 3]\n",
      " [4 5 6]]\n",
      "\n",
      "[[1]\n",
      " [2]\n",
      " [3]]\n",
      "\n",
      "[[14]\n",
      " [32]]\n",
      "[[14]\n",
      " [32]]\n",
      "\n",
      "32\n",
      "32\n",
      "\n",
      "[[14]\n",
      " [32]]\n",
      "[[14]\n",
      " [32]]\n",
      "\n",
      "[[1 4]\n",
      " [2 5]\n",
      " [3 6]]\n",
      "[[1 2 3]\n",
      " [4 5 6]]\n",
      "\n",
      "[[14 32]\n",
      " [32 77]]\n",
      "[[14 32]\n",
      " [32 77]]\n"
     ]
    }
   ],
   "source": [
    "row_vector = np.array([[1, 2, 3], \n",
    "                       [4, 5, 6]])\n",
    "column_vector = np.array([1, 2, 3]).reshape(-1, 1)\n",
    "print(row_vector)\n",
    "print(\"\")\n",
    "print(column_vector)\n",
    "print(\"\")\n",
    "\n",
    "# Matrix multiplication\n",
    "# Number of columns on the left matrix must match the number of rows on the right matrix\n",
    "# => 1 * 1 + 2 * 2 + 3 * 3 = 14\n",
    "# => 4 * 1 + 5 * 2 + 6 * 3 = 32\n",
    "print(np.matmul(row_vector, column_vector))\n",
    "print(row_vector @ column_vector)\n",
    "print(\"\")\n",
    "\n",
    "# Dot product, because both are 1-dimensional arrays\n",
    "# => 1 * 4 + 2 * 5 + 3 * 6 = 32\n",
    "a = np.array([1, 2, 3])\n",
    "b = np.array([4, 5, 6])\n",
    "print(np.dot(a, b))\n",
    "print(a @ b)\n",
    "print(\"\")\n",
    "\n",
    "# Matrix multiplication, because both are 2-dimensional arrays\n",
    "print(np.dot(row_vector, column_vector))\n",
    "print(row_vector @ column_vector)\n",
    "print(\"\")\n",
    "\n",
    "# Transpose a matrix\n",
    "matrix = np.array([[1, 2, 3], \n",
    "                   [4, 5, 6]])\n",
    "transposed_matrix = np.transpose(matrix)\n",
    "print(transposed_matrix)\n",
    "transposed_matrix = transposed_matrix.T\n",
    "print(transposed_matrix)\n",
    "print(\"\")\n",
    "\n",
    "# [1, 2, 3] \n",
    "# [4, 5, 6]\n",
    "#     *\n",
    "#   [1, 4]\n",
    "#   [2, 5]\n",
    "#   [3, 6]\n",
    "\n",
    "# => 1 * 1 + 2 * 2 + 3 * 3 = 14\n",
    "# => 4 * 1 + 5 * 2 + 6 * 3 = 32\n",
    "# => 1 * 4 + 2 * 5 + 3 * 6 = 32\n",
    "# => 4 * 4 + 5 * 5 + 6 * 6 = 77\n",
    "print(matrix.dot(matrix.transpose()))\n",
    "print(matrix @ matrix.transpose())"
   ]
  },
  {
   "cell_type": "markdown",
   "metadata": {},
   "source": [
    "# Linear Equations"
   ]
  },
  {
   "cell_type": "markdown",
   "metadata": {},
   "source": [
    "`2x + 3y = 5`  \n",
    "`4x - y = 6`"
   ]
  },
  {
   "cell_type": "code",
   "execution_count": 5,
   "metadata": {},
   "outputs": [
    {
     "name": "stdout",
     "output_type": "stream",
     "text": [
      "[1.64285714 0.57142857]\n",
      "[5. 6.]\n"
     ]
    }
   ],
   "source": [
    "# Input matrix\n",
    "a = np.array([[2, 3], \n",
    "              [4, -1]])\n",
    "b = np.array([5, 6])\n",
    "\n",
    "# Solve the linear equation\n",
    "result = np.linalg.solve(a, b)\n",
    "print(result)\n",
    "\n",
    "# Check the result\n",
    "print(a @ result)"
   ]
  },
  {
   "cell_type": "markdown",
   "metadata": {},
   "source": [
    "`x + 2y + 3z = 6`  \n",
    "`2x -y + z = 4`  \n",
    "`3x + y - 2z = 3`  "
   ]
  },
  {
   "cell_type": "code",
   "execution_count": 135,
   "metadata": {},
   "outputs": [
    {
     "name": "stdout",
     "output_type": "stream",
     "text": [
      "[1.63333333 0.43333333 1.16666667]\n",
      "[6. 4. 3.]\n"
     ]
    }
   ],
   "source": [
    "# Input matrix\n",
    "a = np.array([[1, 2, 3], \n",
    "              [2, -1, 1],\n",
    "              [3, 1, -2]])\n",
    "b = np.array([6, 4, 3])\n",
    "\n",
    "# Solve the Linear Equation\n",
    "result = np.linalg.solve(a, b)\n",
    "print(result)\n",
    "\n",
    "# Check the result\n",
    "print(a @ result)"
   ]
  },
  {
   "cell_type": "markdown",
   "metadata": {},
   "source": [
    "# Non Linear Equations"
   ]
  },
  {
   "cell_type": "markdown",
   "metadata": {},
   "source": [
    "`x^3 - y = 4,`  \n",
    "`ln(x) + y^2 = 3`  "
   ]
  },
  {
   "cell_type": "code",
   "execution_count": 139,
   "metadata": {},
   "outputs": [
    {
     "name": "stdout",
     "output_type": "stream",
     "text": [
      "x = 1.7713871014392015\n",
      "y = 1.5582801696730748\n"
     ]
    }
   ],
   "source": [
    "from scipy.optimize import fsolve\n",
    "import numpy as np\n",
    "\n",
    "# Definition of the Non Linear Equation\n",
    "def equations(vars):\n",
    "    x, y = vars\n",
    "    equation1 = x**3 - y - 4  # 1st equation: x^3 - y = 4\n",
    "    equation2 = np.log(x) + y**2 - 3  # 2nd equation: ln(x) + y^2 = 3\n",
    "    return [equation1, equation2]\n",
    "\n",
    "# Initial values for x and y\n",
    "initial_guess = [2, 1]\n",
    "\n",
    "# Calculate the result\n",
    "solution = fsolve(equations, initial_guess)\n",
    "\n",
    "# Print the result\n",
    "print(f\"x = {solution[0]}\")\n",
    "print(f\"y = {solution[1]}\")"
   ]
  }
 ],
 "metadata": {
  "kernelspec": {
   "display_name": "pytorch",
   "language": "python",
   "name": "python3"
  },
  "language_info": {
   "codemirror_mode": {
    "name": "ipython",
    "version": 3
   },
   "file_extension": ".py",
   "mimetype": "text/x-python",
   "name": "python",
   "nbconvert_exporter": "python",
   "pygments_lexer": "ipython3",
   "version": "3.10.16"
  }
 },
 "nbformat": 4,
 "nbformat_minor": 2
}
